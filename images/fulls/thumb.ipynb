{
 "cells": [
  {
   "cell_type": "code",
   "execution_count": null,
   "metadata": {},
   "outputs": [
    {
     "name": "stdout",
     "output_type": "stream",
     "text": [
      "(3024, 4032, 3)\n",
      "(4032, 3024, 3)\n",
      "(4032, 3024, 3)\n",
      "(3024, 4032, 3)\n",
      "(4032, 3024, 3)\n"
     ]
    }
   ],
   "source": [
    "\n",
    "import glob\n",
    "from PIL import Image\n",
    "import matplotlib.pyplot as plt\n",
    "import os\n",
    "import numpy as np\n",
    "# get all the jpg files from the current folder\n",
    "for infile in glob.glob(\"*.jpeg\"):\n",
    "#     print(infile)\n",
    "    im = Image.open(infile)\n",
    "    print(np.shape(im))\n",
    "    # convert to thumbnail image\n",
    "    im.thumbnail((800, 800), Image.ANTIALIAS)\n",
    "    plt.imshow(im)\n",
    "  # don't save if thumbnail already exists\n",
    "#   if infile[0:2] != \"T_\":\n",
    "#     # prefix thumbnail file with T_\n",
    "    im.save(os.path.join(r'C:\\Users\\shetu\\Desktop\\photography\\images\\thumbs',infile), \"JPEG\")"
   ]
  }
 ],
 "metadata": {
  "kernelspec": {
   "display_name": "Python 3",
   "language": "python",
   "name": "python3"
  },
  "language_info": {
   "codemirror_mode": {
    "name": "ipython",
    "version": 3
   },
   "file_extension": ".py",
   "mimetype": "text/x-python",
   "name": "python",
   "nbconvert_exporter": "python",
   "pygments_lexer": "ipython3",
   "version": "3.6.10"
  }
 },
 "nbformat": 4,
 "nbformat_minor": 4
}
